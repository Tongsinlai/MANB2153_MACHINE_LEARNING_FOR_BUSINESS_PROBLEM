{
  "nbformat": 4,
  "nbformat_minor": 0,
  "metadata": {
    "colab": {
      "name": "Quiz2 Lai Tong Sin",
      "version": "0.3.2",
      "provenance": [],
      "include_colab_link": true
    },
    "kernelspec": {
      "name": "python3",
      "display_name": "Python 3"
    }
  },
  "cells": [
    {
      "cell_type": "markdown",
      "metadata": {
        "id": "view-in-github",
        "colab_type": "text"
      },
      "source": [
        "<a href=\"https://colab.research.google.com/github/Tongsinlai/MANB2153_MACHINE_LEARNING_FOR_BUSINESS_PROBLEM/blob/master/Quiz2_Lai_Tong_Sin.ipynb\" target=\"_parent\"><img src=\"https://colab.research.google.com/assets/colab-badge.svg\" alt=\"Open In Colab\"/></a>"
      ]
    },
    {
      "metadata": {
        "id": "lA7meLgcj-aY",
        "colab_type": "code",
        "colab": {}
      },
      "cell_type": "code",
      "source": [
        "## Question 2\n",
        "\n",
        "# This is a classification problems because the target variable is binary output(true or false)\n"
      ],
      "execution_count": 0,
      "outputs": []
    },
    {
      "metadata": {
        "id": "vNz3BVRJtwQO",
        "colab_type": "code",
        "colab": {}
      },
      "cell_type": "code",
      "source": [
        "## Question 3\n",
        "from sklearn import datasets\n",
        "import numpy as np\n",
        "import pandas as pd\n",
        "import matplotlib.pyplot as plt\n",
        "import seaborn as sns\n",
        "import keras\n",
        "from keras.models import Sequential\n",
        "from keras.layers import Dense, Dropout, Activation\n",
        "from sklearn.model_selection import train_test_split\n",
        "from keras.utils import to_categorical\n",
        "from keras import backend as K\n",
        "\n",
        "from google.colab import drive\n",
        "drive.mount('/content/gdrive')\n",
        "\n",
        "df=pd.read_csv('/content/gdrive/My Drive/MANB2153 Machine Learning/heart.csv')\n",
        "df.sample(3)\n",
        "\n",
        "#split into predictors and target variable\n",
        "X = df.drop(['target'],1)\n",
        "y = df['target']\n",
        "\n",
        "#identify X and y dimension\n",
        "x_cols=X.shape[1] #input dim\n",
        "y_new=y.reshape(-1, 1) #reshape\n",
        "y_cols=y_new.shape[1] #output dim\n",
        "\n",
        "#Test_train_split X and y\n",
        "X_train, X_test, y_train, y_test = train_test_split(X,y,test_size=0.3,random_state=42)\n",
        "\n",
        "#Building sequential model\n",
        "model=Sequential()\n",
        "model.add(Dense(50, activation='relu', input_dim=x_cols))\n",
        "model.add(Dense(50, activation='relu'))\n",
        "\n",
        "#using sigmoid as output activation function due to binary classification\n",
        "model.add(Dense(y_cols, activation='sigmoid')) \n",
        "\n",
        "#Compile model\n",
        "model.compile(optimizer='rmsprop', \n",
        "              loss='binary_crossentropy', \n",
        "              metrics=['accuracy']) #binary_crossentropy for binary classification\n",
        "\n",
        "#Fit the model\n",
        "model.fit(X_train, y_train,epochs=20)\n",
        "\n",
        "#Calculating accuracy\n",
        "score = model.evaluate(X_test, y_test)\n",
        "\n",
        "K.clear_session()"
      ],
      "execution_count": 0,
      "outputs": []
    },
    {
      "metadata": {
        "id": "yECvs0Bgt0re",
        "colab_type": "code",
        "colab": {}
      },
      "cell_type": "code",
      "source": [
        "## Question 4\n",
        "\n",
        "# Underfitting means that model is not fully trained and unable to capture the data pattern\n",
        "# Overfitting means that model is over trained and too sensitive to every noise in the dataset."
      ],
      "execution_count": 0,
      "outputs": []
    },
    {
      "metadata": {
        "id": "zo0K1xACuagN",
        "colab_type": "code",
        "colab": {}
      },
      "cell_type": "code",
      "source": [
        "## Question 5\n",
        "\n",
        "# To prevent overfit, there are multiple ways:\n",
        "# 1. we can split into 2 sets of data, one for training and another testing.\n",
        "# 2. we can do cross validation betweens small subsets of the primary dataset.\n",
        "# 3. we can using keras early stopping callbacks function to stop epochs once we see an optimum result.\n",
        "# 4. we can simplify the architecture model\n",
        "# 5. we can use dropout function in keras to regularize the model."
      ],
      "execution_count": 0,
      "outputs": []
    }
  ]
}