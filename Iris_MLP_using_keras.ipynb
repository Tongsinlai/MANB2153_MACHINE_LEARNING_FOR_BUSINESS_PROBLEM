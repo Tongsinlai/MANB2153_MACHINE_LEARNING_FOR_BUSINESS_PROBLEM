{
  "nbformat": 4,
  "nbformat_minor": 0,
  "metadata": {
    "colab": {
      "name": "Untitled0.ipynb",
      "version": "0.3.2",
      "provenance": [],
      "include_colab_link": true
    },
    "kernelspec": {
      "name": "python3",
      "display_name": "Python 3"
    }
  },
  "cells": [
    {
      "cell_type": "markdown",
      "metadata": {
        "id": "view-in-github",
        "colab_type": "text"
      },
      "source": [
        "<a href=\"https://colab.research.google.com/github/Tongsinlai/MANB2153_MACHINE_LEARNING_FOR_BUSINESS_PROBLEM/blob/master/Iris_MLP_using_keras.ipynb\" target=\"_parent\"><img src=\"https://colab.research.google.com/assets/colab-badge.svg\" alt=\"Open In Colab\"/></a>"
      ]
    },
    {
      "metadata": {
        "id": "BZiO-xpiXpEx",
        "colab_type": "code",
        "colab": {}
      },
      "cell_type": "code",
      "source": [
        "import numpy as np\n",
        "import pandas as pd\n",
        "import matplotlib.pyplot as plt\n",
        "import seaborn as sns\n",
        "import keras\n",
        "from keras.layers import Dense\n",
        "from keras.models import Sequential\n",
        "from keras.callbacks import EarlyStopping\n",
        "\n",
        "data_train= pd.read_csv('/content/sample_data/california_housing_test.csv')\n",
        "data_test = pd.read_csv('/content/sample_data/california_housing_test.csv')\n",
        "\n",
        "\n",
        "predictors = data_train.drop(['median_house_value','longitude','latitude'],1)\n",
        "target = data_train['median_house_value']\n",
        "\n",
        "data_train.sample(3)\n",
        "predictors.sample(3)\n",
        "target.sample(3)\n",
        "\n",
        "n_cols = predictors.shape[1]\n",
        "print(n_cols)\n",
        "early_stopping_monitor = EarlyStopping(patience=2)\n",
        "model = Sequential()\n",
        "model.add(Dense(50, activation='relu', input_shape=(n_cols,)))\n",
        "\n",
        "# Add the second layer\n",
        "model.add(Dense(32, activation='relu'))\n",
        "\n",
        "# Add the output layer\n",
        "model.add(Dense(1,activation='softmax'))\n",
        "\n",
        "# Compile the model\n",
        "model.compile(optimizer='rmsprop', loss='mse')\n",
        "\n",
        "# Fit the model\n",
        "hist = model.fit(predictors, target, epochs=15, validation_split=0.2, callbacks=[early_stopping_monitor])\n"
      ],
      "execution_count": 0,
      "outputs": []
    },
    {
      "metadata": {
        "id": "XxW8lsedt8nM",
        "colab_type": "code",
        "colab": {
          "base_uri": "https://localhost:8080/",
          "height": 731
        },
        "outputId": "735e5abd-173d-496c-ffd0-1b1cdea784df"
      },
      "cell_type": "code",
      "source": [
        "from sklearn import datasets\n",
        "import numpy as np\n",
        "import pandas as pd\n",
        "import matplotlib.pyplot as plt\n",
        "import seaborn as sns\n",
        "import keras\n",
        "from keras.models import Sequential\n",
        "from keras.layers import Dense, Dropout, Activation\n",
        "from keras.optimizers import SGD\n",
        "from sklearn.model_selection import train_test_split\n",
        "from keras.utils import to_categorical\n",
        "\n",
        "iris = datasets.load_iris()\n",
        "X= iris.data\n",
        "y= to_categorical(iris.target)\n",
        "x_cols =X.shape[1]\n",
        "y_cols =y.shape[1]\n",
        "print(x_cols)\n",
        "\n",
        "X_train, X_test, y_train, y_test = train_test_split(X,y,test_size=0.3,random_state=42)\n",
        "model=Sequential()\n",
        "model.add(Dense(64, activation='relu', input_dim=x_cols))\n",
        "model.add(Dropout(0.5))\n",
        "model.add(Dense(64, activation='relu'))\n",
        "model.add(Dropout(0.5))\n",
        "model.add(Dense(y_cols, activation='softmax'))\n",
        "\n",
        "sgd = SGD(lr=0.01, decay=1e-6, momentum=0.9, nesterov=True)\n",
        "model.compile(loss='categorical_crossentropy',optimizer=sgd,metrics=['accuracy'])\n",
        "\n",
        "model.fit(X_train, y_train,epochs=20)\n",
        "score = model.evaluate(X_test, y_test)"
      ],
      "execution_count": 10,
      "outputs": [
        {
          "output_type": "stream",
          "text": [
            "4\n",
            "Epoch 1/20\n",
            "105/105 [==============================] - 0s 2ms/step - loss: 1.6119 - acc: 0.3143\n",
            "Epoch 2/20\n",
            "105/105 [==============================] - 0s 72us/step - loss: 1.4482 - acc: 0.3810\n",
            "Epoch 3/20\n",
            "105/105 [==============================] - 0s 66us/step - loss: 1.1641 - acc: 0.4667\n",
            "Epoch 4/20\n",
            "105/105 [==============================] - 0s 69us/step - loss: 1.0647 - acc: 0.4095\n",
            "Epoch 5/20\n",
            "105/105 [==============================] - 0s 81us/step - loss: 0.8622 - acc: 0.5810\n",
            "Epoch 6/20\n",
            "105/105 [==============================] - 0s 88us/step - loss: 0.9393 - acc: 0.4286\n",
            "Epoch 7/20\n",
            "105/105 [==============================] - 0s 77us/step - loss: 0.7608 - acc: 0.6286\n",
            "Epoch 8/20\n",
            "105/105 [==============================] - 0s 67us/step - loss: 0.7801 - acc: 0.5810\n",
            "Epoch 9/20\n",
            "105/105 [==============================] - 0s 72us/step - loss: 0.7244 - acc: 0.6571\n",
            "Epoch 10/20\n",
            "105/105 [==============================] - 0s 89us/step - loss: 0.6466 - acc: 0.6476\n",
            "Epoch 11/20\n",
            "105/105 [==============================] - 0s 76us/step - loss: 0.6714 - acc: 0.6190\n",
            "Epoch 12/20\n",
            "105/105 [==============================] - 0s 78us/step - loss: 0.6549 - acc: 0.6286\n",
            "Epoch 13/20\n",
            "105/105 [==============================] - 0s 91us/step - loss: 0.5805 - acc: 0.7238\n",
            "Epoch 14/20\n",
            "105/105 [==============================] - 0s 71us/step - loss: 0.5390 - acc: 0.7714\n",
            "Epoch 15/20\n",
            "105/105 [==============================] - 0s 66us/step - loss: 0.5619 - acc: 0.7238\n",
            "Epoch 16/20\n",
            "105/105 [==============================] - 0s 66us/step - loss: 0.5241 - acc: 0.6952\n",
            "Epoch 17/20\n",
            "105/105 [==============================] - 0s 76us/step - loss: 0.4890 - acc: 0.8286\n",
            "Epoch 18/20\n",
            "105/105 [==============================] - 0s 95us/step - loss: 0.5018 - acc: 0.7048\n",
            "Epoch 19/20\n",
            "105/105 [==============================] - 0s 74us/step - loss: 0.5184 - acc: 0.7524\n",
            "Epoch 20/20\n",
            "105/105 [==============================] - 0s 108us/step - loss: 0.4513 - acc: 0.8476\n",
            "45/45 [==============================] - 0s 2ms/step\n"
          ],
          "name": "stdout"
        }
      ]
    }
  ]
}