{
 "cells": [
  {
   "attachments": {},
   "cell_type": "markdown",
   "metadata": {},
   "source": [
    "# Lai Tong Sin\n",
    "## List a few definitions of Machine Learning (with references if possible), and examples of application. Write in paragraphs in Jupyter Notebook."
   ]
  },
  {
   "cell_type": "markdown",
   "metadata": {},
   "source": [
    "Definition of Machine Learning\n",
    "    1. Method of data analysis that automates analytics model building.\n",
    "    2. Idea of an system that can learn from data, identify trends and pattern to make decision like normal human.\n",
    "    3. Field of study that gives computers the ability to learn without explicitly programmed.\n",
    "    4. Branch of artifical intelligence that systematics applies algorithms to synthesis the underlying relationships among data.\n",
    "    5. Study of computer algorithms that improve automatically through experience.\n",
    "\n",
    "Examples of ML application:\n",
    "    1. Forecast supply and demand and help company to save cost and improve efficiency.\n",
    "    2. Detect fraud by analysing multiple transactions through classification.\n",
    "    3. Image recognition via detect and analysing face features.\n",
    "    4. Personalized marketing through learning users' interests.\n",
    "    5. Voice recognition by processing voice data into texts."
   ]
  },
  {
   "cell_type": "markdown",
   "metadata": {},
   "source": [
    "## References"
   ]
  },
  {
   "cell_type": "markdown",
   "metadata": {},
   "source": [
    "References:\n",
    "    1. Machine Learning: What it is and why it matters. (n.d.). Retrieved from https://www.sas.com/en_my/insights/analytics/machine-learning.html\n",
    "    2. Samuel, Arthur L. (1959). \"Some Studies in Machine Learning Using the Game of Checkers\". IBM Journal of Research and Development.\n",
    "    3. M Awad, R Khanna (2015). \"Efficient Learning Machine\".\n",
    "    4. T Hill. (1997) \"Machine Learning\", McGraw Hill.\n",
    "    "
   ]
  }
 ],
 "metadata": {
  "kernelspec": {
   "display_name": "Python 3",
   "language": "python",
   "name": "python3"
  },
  "language_info": {
   "codemirror_mode": {
    "name": "ipython",
    "version": 3
   },
   "file_extension": ".py",
   "mimetype": "text/x-python",
   "name": "python",
   "nbconvert_exporter": "python",
   "pygments_lexer": "ipython3",
   "version": "3.7.1"
  }
 },
 "nbformat": 4,
 "nbformat_minor": 2
}
